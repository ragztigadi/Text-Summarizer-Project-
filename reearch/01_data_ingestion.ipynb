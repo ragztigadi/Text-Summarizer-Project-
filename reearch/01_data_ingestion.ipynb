{
 "cells": [
  {
   "cell_type": "code",
   "execution_count": 255,
   "metadata": {},
   "outputs": [],
   "source": [
    "import sys\n",
    "import os\n",
    "\n",
    "# Add the src directory to the system path\n",
    "sys.path.append(os.path.join(os.getcwd(), \"src\"))\n"
   ]
  },
  {
   "cell_type": "code",
   "execution_count": 256,
   "metadata": {},
   "outputs": [
    {
     "data": {
      "text/plain": [
       "'d:\\\\'"
      ]
     },
     "execution_count": 256,
     "metadata": {},
     "output_type": "execute_result"
    }
   ],
   "source": [
    "%pwd "
   ]
  },
  {
   "cell_type": "code",
   "execution_count": 257,
   "metadata": {},
   "outputs": [],
   "source": [
    "os.chdir(\"../\")"
   ]
  },
  {
   "cell_type": "code",
   "execution_count": 258,
   "metadata": {},
   "outputs": [
    {
     "data": {
      "text/plain": [
       "'d:\\\\'"
      ]
     },
     "execution_count": 258,
     "metadata": {},
     "output_type": "execute_result"
    }
   ],
   "source": [
    "%pwd"
   ]
  },
  {
   "cell_type": "code",
   "execution_count": 259,
   "metadata": {},
   "outputs": [],
   "source": [
    "from dataclasses import dataclass\n",
    "from pathlib import Path \n",
    "\n",
    "@dataclass(frozen=True)\n",
    "class DataIngestionConfig:\n",
    "    root_dir: Path\n",
    "    source_URL: str\n",
    "    local_data_file: Path\n",
    "    unzip_dir: Path"
   ]
  },
  {
   "cell_type": "code",
   "execution_count": 260,
   "metadata": {},
   "outputs": [],
   "source": [
    "\n",
    "from src.textSummarizer.constants import *\n",
    "from src.textSummarizer.utils.common import read_yaml, create_directories\n"
   ]
  },
  {
   "cell_type": "code",
   "execution_count": 261,
   "metadata": {},
   "outputs": [],
   "source": [
    "from src.textSummarizer.constants import CONFIG_FILE_PATH, PARAMS_FILE_PATH\n",
    "from src.textSummarizer.utils.common import read_yaml, create_directories\n",
    "from pathlib import Path\n",
    "from dataclasses import dataclass\n",
    "\n",
    "from pathlib import Path\n",
    "\n",
    "# Use absolute paths for the config and params file\n",
    "CONFIG_FILE_PATH = Path(\"D:/Text Summarizer Project/Text-Summarizer-Project-/config/config.yaml\")\n",
    "PARAMS_FILE_PATH = Path(\"D:/Text Summarizer Project/Text-Summarizer-Project-/params.yaml\")\n",
    "\n",
    "\n",
    "@dataclass(frozen=True)\n",
    "class DataIngestionConfig:\n",
    "    root_dir: Path\n",
    "    source_URL: str\n",
    "    local_data_file: Path\n",
    "    unzip_dir: Path\n",
    "\n",
    "class ConfigurationManager:\n",
    "    def __init__(\n",
    "            self,\n",
    "            config_filepath: Path = CONFIG_FILE_PATH,\n",
    "            params_filepath: Path = PARAMS_FILE_PATH):\n",
    "        \n",
    "        # Reading the YAML configuration files\n",
    "        self.config = read_yaml(config_filepath)\n",
    "        self.params = read_yaml(params_filepath)\n",
    "\n",
    "        # Creating the directories mentioned in the config file\n",
    "        create_directories([self.config.artifacts_root])\n",
    "\n",
    "\n",
    "    def get_data_ingestion_config(self) -> DataIngestionConfig:\n",
    "        config = self.config.data_ingestion\n",
    "\n",
    "        # Create directories for data ingestion\n",
    "        create_directories([config.root_dir])\n",
    "\n",
    "        # Creating the data ingestion configuration object\n",
    "        data_ingestion_config = DataIngestionConfig(\n",
    "            root_dir=Path(config.root_dir),         # Converting to Path object if not already\n",
    "            source_URL=config.source_URL,           # URL for data source\n",
    "            local_data_file=Path(config.local_data_file),  # Path for the local data file\n",
    "            unzip_dir=Path(config.unzip_dir)        # Path for the directory to unzip files\n",
    "        )\n",
    "\n",
    "        return data_ingestion_config\n"
   ]
  },
  {
   "cell_type": "code",
   "execution_count": 262,
   "metadata": {},
   "outputs": [],
   "source": [
    "import os\n",
    "import urllib.request as request\n",
    "import zipfile\n",
    "from src.textSummarizer.utils.common import get_size"
   ]
  },
  {
   "cell_type": "code",
   "execution_count": 263,
   "metadata": {},
   "outputs": [
    {
     "name": "stdout",
     "output_type": "stream",
     "text": [
      "[2024-10-02 00:24:52,360: INFO: 2073371145: Configuration loaded successfully.]\n",
      "[2024-10-02 00:24:52,360: INFO: 2073371145: Root directory created at: artifacts/data_ingestion]\n",
      "[2024-10-02 00:24:52,360: INFO: 2073371145: Directory for local data file created at: artifacts/data_ingestion]\n",
      "[2024-10-02 00:24:52,360: INFO: 2073371145: Unzip directory created at: artifacts/data_ingestion]\n",
      "[2024-10-02 00:24:52,360: INFO: 2073371145: Downloading file from https://raw.githubusercontent.com/ragztigadi/data_files/c9830f66604257b903098b53d1755e4fbc71657d/summarizer-data.zip...]\n",
      "[2024-10-02 00:24:54,260: INFO: 2073371145: File downloaded successfully.]\n",
      "[2024-10-02 00:24:54,275: INFO: 2073371145: Extracting artifacts/data_ingestion/data.zip to artifacts/data_ingestion...]\n",
      "[2024-10-02 00:24:54,513: INFO: 2073371145: Files extracted successfully.]\n"
     ]
    }
   ],
   "source": [
    "import os\n",
    "import requests\n",
    "import zipfile\n",
    "import logging\n",
    "import yaml\n",
    "\n",
    "# Configure logging\n",
    "logging.basicConfig(level=logging.INFO, format='%(asctime)s - %(levelname)s - %(message)s')\n",
    "logger = logging.getLogger(__name__)\n",
    "\n",
    "class DataIngestion:\n",
    "    def __init__(self, config):\n",
    "        self.config = config\n",
    "        # Create the necessary directories\n",
    "        self.create_directories()\n",
    "\n",
    "    def create_directories(self):\n",
    "        \"\"\"Create necessary directories for data ingestion.\"\"\"\n",
    "        try:\n",
    "            os.makedirs(self.config['root_dir'], exist_ok=True)\n",
    "            logger.info(f\"Root directory created at: {self.config['root_dir']}\")\n",
    "        except Exception as e:\n",
    "            logger.error(f\"Error creating root directory: {e}\")\n",
    "\n",
    "        try:\n",
    "            os.makedirs(os.path.dirname(self.config['local_data_file']), exist_ok=True)\n",
    "            logger.info(f\"Directory for local data file created at: {os.path.dirname(self.config['local_data_file'])}\")\n",
    "        except Exception as e:\n",
    "            logger.error(f\"Error creating directory for local data file: {e}\")\n",
    "\n",
    "        try:\n",
    "            os.makedirs(self.config['unzip_dir'], exist_ok=True)\n",
    "            logger.info(f\"Unzip directory created at: {self.config['unzip_dir']}\")\n",
    "        except Exception as e:\n",
    "            logger.error(f\"Error creating unzip directory: {e}\")\n",
    "\n",
    "    def download_file(self):\n",
    "        \"\"\"Download file from the source URL.\"\"\"\n",
    "        try:\n",
    "            logger.info(f\"Downloading file from {self.config['source_url']}...\")\n",
    "            response = requests.get(self.config['source_url'])\n",
    "            if response.status_code == 200:\n",
    "                with open(self.config['local_data_file'], 'wb') as file:\n",
    "                    file.write(response.content)\n",
    "                logger.info(\"File downloaded successfully.\")\n",
    "            else:\n",
    "                logger.error(f\"Failed to download file: {response.status_code}\")\n",
    "        except Exception as e:\n",
    "            logger.error(f\"Error downloading file: {e}\")\n",
    "\n",
    "    def extract_zip_file(self):\n",
    "        \"\"\"Extract the downloaded zip file.\"\"\"\n",
    "        try:\n",
    "            logger.info(f\"Extracting {self.config['local_data_file']} to {self.config['unzip_dir']}...\")\n",
    "            with zipfile.ZipFile(self.config['local_data_file'], 'r') as zip_ref:\n",
    "                zip_ref.extractall(self.config['unzip_dir'])\n",
    "            logger.info(\"Files extracted successfully.\")\n",
    "        except zipfile.BadZipFile:\n",
    "            logger.error(\"Error: The downloaded file is not a valid zip file.\")\n",
    "        except Exception as e:\n",
    "            logger.error(f\"An error occurred while extracting the zip file: {e}\")\n",
    "\n",
    "# Load configuration from the YAML file\n",
    "try:\n",
    "    with open(\"D:/Text Summarizer Project/Text-Summarizer-Project-/config/config.yaml\", 'r') as config_file:\n",
    "        config = yaml.safe_load(config_file)\n",
    "        logger.info(\"Configuration loaded successfully.\")\n",
    "except FileNotFoundError as e:\n",
    "    logger.error(f\"Configuration file not found: {e}\")\n",
    "    raise\n",
    "\n",
    "# Usage\n",
    "data_ingestion_config = config['data_ingestion']\n",
    "data_ingestion = DataIngestion(data_ingestion_config)\n",
    "\n",
    "# Run the download and extraction processes\n",
    "data_ingestion.download_file()\n",
    "data_ingestion.extract_zip_file()\n"
   ]
  },
  {
   "cell_type": "code",
   "execution_count": 264,
   "metadata": {},
   "outputs": [
    {
     "name": "stdout",
     "output_type": "stream",
     "text": [
      "[2024-10-02 00:24:54,521: INFO: 3593489851: Configuration loaded successfully.]\n",
      "[2024-10-02 00:24:54,526: INFO: 3593489851: Data ingestion configuration: {'root_dir': 'artifacts/data_ingestion', 'source_url': 'https://raw.githubusercontent.com/ragztigadi/data_files/c9830f66604257b903098b53d1755e4fbc71657d/summarizer-data.zip', 'local_data_file': 'artifacts/data_ingestion/data.zip', 'unzip_dir': 'artifacts/data_ingestion'}]\n",
      "[2024-10-02 00:24:54,527: INFO: 3593489851: Source URL: https://raw.githubusercontent.com/ragztigadi/data_files/c9830f66604257b903098b53d1755e4fbc71657d/summarizer-data.zip]\n"
     ]
    }
   ],
   "source": [
    "import os\n",
    "import logging\n",
    "import zipfile\n",
    "import yaml\n",
    "\n",
    "# Configure logging\n",
    "logging.basicConfig(level=logging.INFO, format='%(asctime)s - %(levelname)s - %(message)s')\n",
    "logger = logging.getLogger(__name__)\n",
    "\n",
    "# Load configuration from the correct YAML file path\n",
    "try:\n",
    "    # Use the correct path to your config.yaml file\n",
    "    with open(\"D:/Text Summarizer Project/Text-Summarizer-Project-/config/config.yaml\", 'r') as config_file:\n",
    "        config = yaml.safe_load(config_file)\n",
    "        logger.info(\"Configuration loaded successfully.\")\n",
    "except FileNotFoundError as e:\n",
    "    logger.error(f\"Configuration file not found: {e}\")\n",
    "    raise  # Optionally re-raise the error after logging\n",
    "\n",
    "data_ingestion_config = config['data_ingestion']\n",
    "logger.info(f\"Data ingestion configuration: {data_ingestion_config}\")\n",
    "\n",
    "# Check for specific config items\n",
    "if 'source_url' in data_ingestion_config:\n",
    "    logger.info(f\"Source URL: {data_ingestion_config['source_url']}\")\n",
    "else:\n",
    "    logger.warning(\"Source URL not found in the configuration.\")\n"
   ]
  }
 ],
 "metadata": {
  "kernelspec": {
   "display_name": "textS",
   "language": "python",
   "name": "python3"
  },
  "language_info": {
   "codemirror_mode": {
    "name": "ipython",
    "version": 3
   },
   "file_extension": ".py",
   "mimetype": "text/x-python",
   "name": "python",
   "nbconvert_exporter": "python",
   "pygments_lexer": "ipython3",
   "version": "3.12.4"
  }
 },
 "nbformat": 4,
 "nbformat_minor": 2
}
